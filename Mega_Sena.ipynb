{
 "cells": [
  {
   "cell_type": "markdown",
   "id": "24c6b485",
   "metadata": {},
   "source": [
    "# Mega Sena"
   ]
  },
  {
   "cell_type": "code",
   "execution_count": 95,
   "id": "d68e33a2",
   "metadata": {},
   "outputs": [],
   "source": [
    "# imports\n",
    "import pandas as pd\n",
    "lista_final = []\n",
    "import random\n",
    "\n",
    "# definindo linhas para layout\n",
    "p = 55\n",
    "\n",
    "# importando dataset\n",
    "df = pd.read_excel(r'C:\\Users\\182200406\\Desktop\\resultados_megasena.xlsx')"
   ]
  },
  {
   "cell_type": "markdown",
   "id": "dfdadd3b",
   "metadata": {},
   "source": [
    "#### Neste dataframe, os top 10 números sorteados em cada coluna (de 1 a 6) \n",
    "Aí, sorteareamos apenas um número de cada dezena.\n",
    "Nesse tipo de sorteio, as dezenas ficaram bastante espaçadas, podendo ir do 1 ao 60 preenchendo todas as dezenas"
   ]
  },
  {
   "cell_type": "code",
   "execution_count": 96,
   "id": "b47610a6",
   "metadata": {},
   "outputs": [
    {
     "name": "stdout",
     "output_type": "stream",
     "text": [
      "-------------------------------------------------------\n",
      "\u001b[92m  Aqui estão os 10 números sorteados em cada coluna:   \u001b[00m\n",
      "-------------------------------------------------------\n",
      "   Coluna1  Coluna2  Coluna3  Coluna4  Coluna5  Coluna6\n",
      "0      1.0     16.0     28.0     37.0     42.0     60.0\n",
      "1      2.0     13.0     24.0     33.0     45.0     59.0\n",
      "2      4.0     10.0     23.0     35.0     51.0     58.0\n",
      "3      3.0     11.0     30.0     41.0     53.0     56.0\n",
      "4      5.0     18.0     29.0     34.0     49.0     57.0\n",
      "5      6.0     12.0     19.0     38.0     46.0     54.0\n",
      "6      7.0     15.0     31.0     32.0     43.0     53.0\n",
      "7      8.0      9.0     25.0     39.0     52.0     55.0\n",
      "8     10.0     17.0     26.0     36.0     41.0     52.0\n",
      "9      9.0     14.0     17.0     40.0     47.0     51.0\n"
     ]
    }
   ],
   "source": [
    "# criando new dataframe\n",
    "new_df = pd.DataFrame()\n",
    "\n",
    "#\\033[93m{'MATRIZ':^12}\\033[00m\n",
    "\n",
    "coluna1 = df['Coluna1'].value_counts().head(10).index\n",
    "new_df['Coluna1'] = coluna1\n",
    "\n",
    "coluna2 = df['Coluna2'].value_counts().head(10).index\n",
    "new_df['Coluna2'] = coluna2\n",
    "\n",
    "coluna3 = df['Coluna3'].value_counts().head(10).index\n",
    "new_df['Coluna3'] = coluna3\n",
    "\n",
    "coluna4 = df['Coluna4'].value_counts().head(10).index\n",
    "new_df['Coluna4'] = coluna4\n",
    "\n",
    "coluna5 = df['Coluna5'].value_counts().head(10).index\n",
    "new_df['Coluna5'] = coluna5\n",
    "\n",
    "coluna6 = df['Coluna6'].value_counts().head(10).index\n",
    "new_df['Coluna6'] = coluna6\n",
    "\n",
    "print('-'*p)\n",
    "print(f\"\\033[92m{'Aqui estão os 10 números sorteados em cada coluna:':^55}\\033[00m\")\n",
    "print('-'*p)\n",
    "\n",
    "print(new_df)"
   ]
  },
  {
   "cell_type": "markdown",
   "id": "76033b28",
   "metadata": {},
   "source": [
    "Neste dataframe, filtramos pelos 5 top de cada coluna, colocamos todos na mesma lista e sorteamos 6 números entre no máximo 30\n",
    "Ou seja, misturamos as colunas"
   ]
  },
  {
   "cell_type": "code",
   "execution_count": 97,
   "id": "63b7a156",
   "metadata": {},
   "outputs": [
    {
     "name": "stdout",
     "output_type": "stream",
     "text": [
      "-------------------------------------------------------\n",
      "\u001b[92m  Aqui estão os 10 números sorteados em cada coluna:   \u001b[00m\n",
      "-------------------------------------------------------\n",
      "   Coluna1  Coluna2  Coluna3  Coluna4  Coluna5  Coluna6\n",
      "0      1.0     16.0     28.0     37.0     42.0     60.0\n",
      "1      2.0     13.0     24.0     33.0     45.0     59.0\n",
      "2      4.0     10.0     23.0     35.0     51.0     58.0\n",
      "3      3.0     11.0     30.0     41.0     53.0     56.0\n",
      "4      5.0     18.0     29.0     34.0     49.0     57.0\n"
     ]
    }
   ],
   "source": [
    "# criando new dataframe\n",
    "new_df_2 = pd.DataFrame()\n",
    "\n",
    "#\\033[93m{'MATRIZ':^12}\\033[00m\n",
    "\n",
    "coluna1 = df['Coluna1'].value_counts().head().index\n",
    "new_df_2['Coluna1'] = coluna1\n",
    "\n",
    "coluna2 = df['Coluna2'].value_counts().head().index\n",
    "new_df_2['Coluna2'] = coluna2\n",
    "\n",
    "coluna3 = df['Coluna3'].value_counts().head().index\n",
    "new_df_2['Coluna3'] = coluna3\n",
    "\n",
    "coluna4 = df['Coluna4'].value_counts().head().index\n",
    "new_df_2['Coluna4'] = coluna4\n",
    "\n",
    "coluna5 = df['Coluna5'].value_counts().head().index\n",
    "new_df_2['Coluna5'] = coluna5\n",
    "\n",
    "coluna6 = df['Coluna6'].value_counts().head().index\n",
    "new_df_2['Coluna6'] = coluna6\n",
    "\n",
    "print('-'*p)\n",
    "print(f\"\\033[92m{'Aqui estão os 10 números sorteados em cada coluna:':^55}\\033[00m\")\n",
    "print('-'*p)\n",
    "\n",
    "print(new_df_2)"
   ]
  },
  {
   "cell_type": "code",
   "execution_count": 98,
   "id": "498fc976",
   "metadata": {},
   "outputs": [],
   "source": [
    "def sorteio_mega(tipo = 'dezenas'):\n",
    "    '''\n",
    "    \n",
    "    sorteio_mega():\n",
    "        \n",
    "    Resumo: Sorteia 6 números baseado em duas possibilidades, que devem ser escolhidos através dos parâmetros:\n",
    "    tipo='dezenas', tipo='geral'\n",
    "    \n",
    "    Nos sorteios da Mega Sena, os números sorteados são colocados em ordem crescente em colunas diferentes,\n",
    "    o menor na coluna 1 e o maior na coluna 6.\n",
    "    \n",
    "    Parâmetros:\n",
    "    \n",
    "    1) tipo = 'dezenas': Para cada coluna, filtra os 10 números mais sorteados. Então, sorteia um número de cada coluna.\n",
    "        - Resultado tende a ser mais amplo já que, por sortear por coluna, pega dezenas pequenas, médias e altas\n",
    "        - ex: [01, 11, 21, 31, 41, 51]\n",
    "    \n",
    "    2) tipo = 'geral': Para cada coluna, filtra os 5 números mais sorteados, junta eles numa única lista e sorteia 6 números.\n",
    "        - Resultado pode excluir extremos já que não necessariamente pegará valores de todas as colunas. \n",
    "        - ex: (1, 2, 3, 11, 12, 20)\n",
    "        \n",
    "        CRIADOR: MARCOS SAPORITI -> https://github.com/mmsaporiti\n",
    "        '''\n",
    "    \n",
    "    lista_final = []\n",
    "    if tipo == 'dezenas':\n",
    "        for item in new_df.columns:\n",
    "            n = random.choice(new_df[item])\n",
    "            while n in lista_final:\n",
    "                n = random.choice(new_df[item])\n",
    "            lista_final.append(int(n))\n",
    "            \n",
    "    if tipo == 'geral':\n",
    "        for item in new_df_2.columns:\n",
    "            for n in new_df_2[item]:\n",
    "                lista_final.append(int(n))\n",
    "        lista_final = random.choices(lista_final, k=6)\n",
    "        \n",
    "    \n",
    "    print('Aqui está sua lista com os seis números da sorte: ', end='')\n",
    "    print(f\"\\033[92m{lista_final}\\033[00m\")"
   ]
  },
  {
   "cell_type": "code",
   "execution_count": 99,
   "id": "e3aad9f4",
   "metadata": {},
   "outputs": [
    {
     "name": "stdout",
     "output_type": "stream",
     "text": [
      "Help on function sorteio_mega in module __main__:\n",
      "\n",
      "sorteio_mega(tipo='dezenas')\n",
      "    sorteio_mega():\n",
      "        \n",
      "    Resumo: Sorteia 6 números baseado em duas possibilidades, que devem ser escolhidos através dos parâmetros:\n",
      "    tipo='dezenas', tipo='geral'\n",
      "    \n",
      "    Nos sorteios da Mega Sena, os números sorteados são colocados em ordem crescente em colunas diferentes,\n",
      "    o menor na coluna 1 e o maior na coluna 6.\n",
      "    \n",
      "    Parâmetros:\n",
      "    \n",
      "    1) tipo = 'dezenas': Para cada coluna, filtra os 10 números mais sorteados. Então, sorteia um número de cada coluna.\n",
      "        - Resultado tende a ser mais amplo já que, por sortear por coluna, pega dezenas pequenas, médias e altas\n",
      "        - ex: [01, 11, 21, 31, 41, 51]\n",
      "    \n",
      "    2) tipo = 'geral': Para cada coluna, filtra os 5 números mais sorteados, junta eles numa única lista e sorteia 6 números.\n",
      "        - Resultado pode excluir extremos já que não necessariamente pegará valores de todas as colunas. \n",
      "        - ex: (1, 2, 3, 11, 12, 20)\n",
      "        \n",
      "        CRIADOR: MARCOS SAPORITI -> https://github.com/mmsaporiti\n",
      "\n"
     ]
    }
   ],
   "source": [
    "help(sorteio_mega)"
   ]
  },
  {
   "cell_type": "code",
   "execution_count": 136,
   "id": "cbb3ba79",
   "metadata": {},
   "outputs": [
    {
     "name": "stdout",
     "output_type": "stream",
     "text": [
      "-------------------------------------------------------\n",
      "\u001b[92m  E aí, sortudo(a)!!! Tá pronto pra ficar MILIONÁRIO?  \u001b[93m\n",
      "-------------------------------------------------------\n",
      "- Você tem duas escolhas:\n",
      "1 - Sortear um número entre os 10 mais sorteados de cada coluna\n",
      "2 - Sortear 6 números aleatórios entre os 5 mais sorteados de cada coluna.\n",
      "\n",
      "Digite sua opção: [1]/[2]: \n",
      "\n",
      "Digite sua opção: 1\n"
     ]
    }
   ],
   "source": [
    "# printando menu\n",
    "\n",
    "print('-'*p)\n",
    "print(f\"\\033[92m{'E aí, sortudo(a)!!! Tá pronto pra ficar MILIONÁRIO?':^{p}}\\033[93m\")\n",
    "print('-'*p)\n",
    "\n",
    "print('- Você tem duas escolhas:\\n'\n",
    "'1 - Sortear um número entre os 10 mais sorteados de cada coluna\\n'\n",
    "'2 - Sortear 6 números aleatórios entre os 5 mais sorteados de cada coluna.')\n",
    "print()\n",
    "print('Digite sua opção: [1]/[2]: ')\n",
    "print()\n",
    "parametro = int(input('Digite sua opção: '))\n",
    "while parametro not in [1, 2]:\n",
    "    print('Opção inválida!')\n",
    "    parametro = int(input('Digite sua opção: '))"
   ]
  },
  {
   "cell_type": "code",
   "execution_count": 139,
   "id": "bc7f13a1",
   "metadata": {},
   "outputs": [
    {
     "name": "stdout",
     "output_type": "stream",
     "text": [
      "Aqui está sua lista com os seis números da sorte: \u001b[92m[2, 17, 29, 40, 41, 54]\u001b[00m\n"
     ]
    }
   ],
   "source": [
    "# sorteando:   \n",
    "    \n",
    "if parametro == 1:\n",
    "    parametro = 'dezenas'\n",
    "elif parametro == 2:\n",
    "    parametro = 'geral'\n",
    "    \n",
    "sorteio_mega(parametro)"
   ]
  }
 ],
 "metadata": {
  "kernelspec": {
   "display_name": "Python 3 (ipykernel)",
   "language": "python",
   "name": "python3"
  },
  "language_info": {
   "codemirror_mode": {
    "name": "ipython",
    "version": 3
   },
   "file_extension": ".py",
   "mimetype": "text/x-python",
   "name": "python",
   "nbconvert_exporter": "python",
   "pygments_lexer": "ipython3",
   "version": "3.9.13"
  }
 },
 "nbformat": 4,
 "nbformat_minor": 5
}
